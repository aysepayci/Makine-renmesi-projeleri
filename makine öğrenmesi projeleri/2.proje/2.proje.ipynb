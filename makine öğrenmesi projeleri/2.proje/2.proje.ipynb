{
 "cells": [
  {
   "cell_type": "markdown",
   "id": "bc9f0eba",
   "metadata": {},
   "source": [
    "Emlak fiyatlarını yapay zeka kullanrak tahmin etme"
   ]
  },
  {
   "cell_type": "code",
   "execution_count": null,
   "id": "340d09a5",
   "metadata": {},
   "outputs": [],
   "source": [
    "\"\"\"\n",
    "Linear regression\n",
    "Y=a+bX\n",
    "Multiple Linear regression\n",
    "y=a+b1X1+b2X2+b3X3+...\n",
    "\n",
    "Biz python'a örnek veri setimizi verdiğimizde python bizim için a ve b(i) değerlerini hesaplar ve yeni X değerlerimizi için Y'yi bize hesaplayıp sonuç olarak verir.\n",
    "\"\"\""
   ]
  },
  {
   "cell_type": "code",
   "execution_count": null,
   "id": "434f5853",
   "metadata": {},
   "outputs": [
    {
     "data": {
      "text/plain": [
       "''"
      ]
     },
     "execution_count": 1,
     "metadata": {},
     "output_type": "execute_result"
    }
   ],
   "source": [
    "\"\"\"\n",
    "Multile Linear Regression'da birden fazla bağımsız (independent) değişkene karşılık bir bağımlı(dependent) değişken bulunur.\n",
    "Linear Regression veriler arasındaki var olan korelasyonu(ilişkiyi) kullanarak yeni gelecek verilerde tahmin etme modelidir.\n",
    "Burada makine öğrenme bize veriler arasındaki bu ilişkiyi belirlemem,ze yardımcı olur ve bu sayede yeni verileri tahmin ederbiliriz\"\"\""
   ]
  },
  {
   "cell_type": "code",
   "execution_count": 1,
   "id": "165596ea",
   "metadata": {},
   "outputs": [],
   "source": [
    "import pandas as pd\n",
    "import matplotlib.pyplot as plt\n",
    "#sklearn library\n",
    "from sklearn import linear_model\n",
    "\n",
    "#veri setimizi import ediyoruz , ayraç olarak noktalı virgül olduğu için bunu belirtiyoruz:\n",
    "df=pd.read_csv(\"multilinearregression.csv\", sep=';')"
   ]
  },
  {
   "cell_type": "code",
   "execution_count": 2,
   "id": "42341aa5",
   "metadata": {},
   "outputs": [
    {
     "data": {
      "text/html": [
       "<div>\n",
       "<style scoped>\n",
       "    .dataframe tbody tr th:only-of-type {\n",
       "        vertical-align: middle;\n",
       "    }\n",
       "\n",
       "    .dataframe tbody tr th {\n",
       "        vertical-align: top;\n",
       "    }\n",
       "\n",
       "    .dataframe thead th {\n",
       "        text-align: right;\n",
       "    }\n",
       "</style>\n",
       "<table border=\"1\" class=\"dataframe\">\n",
       "  <thead>\n",
       "    <tr style=\"text-align: right;\">\n",
       "      <th></th>\n",
       "      <th>alan</th>\n",
       "      <th>odasayisi</th>\n",
       "      <th>binayasi</th>\n",
       "      <th>fiyat</th>\n",
       "    </tr>\n",
       "  </thead>\n",
       "  <tbody>\n",
       "    <tr>\n",
       "      <th>0</th>\n",
       "      <td>180</td>\n",
       "      <td>5</td>\n",
       "      <td>10</td>\n",
       "      <td>510000</td>\n",
       "    </tr>\n",
       "    <tr>\n",
       "      <th>1</th>\n",
       "      <td>225</td>\n",
       "      <td>4</td>\n",
       "      <td>18</td>\n",
       "      <td>508000</td>\n",
       "    </tr>\n",
       "    <tr>\n",
       "      <th>2</th>\n",
       "      <td>260</td>\n",
       "      <td>3</td>\n",
       "      <td>2</td>\n",
       "      <td>548000</td>\n",
       "    </tr>\n",
       "    <tr>\n",
       "      <th>3</th>\n",
       "      <td>320</td>\n",
       "      <td>6</td>\n",
       "      <td>10</td>\n",
       "      <td>650000</td>\n",
       "    </tr>\n",
       "    <tr>\n",
       "      <th>4</th>\n",
       "      <td>335</td>\n",
       "      <td>4</td>\n",
       "      <td>9</td>\n",
       "      <td>628000</td>\n",
       "    </tr>\n",
       "    <tr>\n",
       "      <th>5</th>\n",
       "      <td>345</td>\n",
       "      <td>5</td>\n",
       "      <td>14</td>\n",
       "      <td>632000</td>\n",
       "    </tr>\n",
       "    <tr>\n",
       "      <th>6</th>\n",
       "      <td>355</td>\n",
       "      <td>3</td>\n",
       "      <td>0</td>\n",
       "      <td>680000</td>\n",
       "    </tr>\n",
       "    <tr>\n",
       "      <th>7</th>\n",
       "      <td>400</td>\n",
       "      <td>4</td>\n",
       "      <td>10</td>\n",
       "      <td>725000</td>\n",
       "    </tr>\n",
       "  </tbody>\n",
       "</table>\n",
       "</div>"
      ],
      "text/plain": [
       "   alan  odasayisi  binayasi   fiyat\n",
       "0   180          5        10  510000\n",
       "1   225          4        18  508000\n",
       "2   260          3         2  548000\n",
       "3   320          6        10  650000\n",
       "4   335          4         9  628000\n",
       "5   345          5        14  632000\n",
       "6   355          3         0  680000\n",
       "7   400          4        10  725000"
      ]
     },
     "execution_count": 2,
     "metadata": {},
     "output_type": "execute_result"
    }
   ],
   "source": [
    "#veri setimizi görelim ve doğru import ettiğimizi kontrol edelim:\n",
    "df"
   ]
  },
  {
   "cell_type": "code",
   "execution_count": null,
   "id": "63ee1081",
   "metadata": {},
   "outputs": [
    {
     "data": {
      "text/html": [
       "<div>\n",
       "<style scoped>\n",
       "    .dataframe tbody tr th:only-of-type {\n",
       "        vertical-align: middle;\n",
       "    }\n",
       "\n",
       "    .dataframe tbody tr th {\n",
       "        vertical-align: top;\n",
       "    }\n",
       "\n",
       "    .dataframe thead th {\n",
       "        text-align: right;\n",
       "    }\n",
       "</style>\n",
       "<table border=\"1\" class=\"dataframe\">\n",
       "  <thead>\n",
       "    <tr style=\"text-align: right;\">\n",
       "      <th></th>\n",
       "      <th>alan</th>\n",
       "      <th>odasayisi</th>\n",
       "      <th>binayasi</th>\n",
       "    </tr>\n",
       "  </thead>\n",
       "  <tbody>\n",
       "    <tr>\n",
       "      <th>0</th>\n",
       "      <td>180</td>\n",
       "      <td>5</td>\n",
       "      <td>10</td>\n",
       "    </tr>\n",
       "    <tr>\n",
       "      <th>1</th>\n",
       "      <td>225</td>\n",
       "      <td>4</td>\n",
       "      <td>18</td>\n",
       "    </tr>\n",
       "    <tr>\n",
       "      <th>2</th>\n",
       "      <td>260</td>\n",
       "      <td>3</td>\n",
       "      <td>2</td>\n",
       "    </tr>\n",
       "    <tr>\n",
       "      <th>3</th>\n",
       "      <td>320</td>\n",
       "      <td>6</td>\n",
       "      <td>10</td>\n",
       "    </tr>\n",
       "    <tr>\n",
       "      <th>4</th>\n",
       "      <td>335</td>\n",
       "      <td>4</td>\n",
       "      <td>9</td>\n",
       "    </tr>\n",
       "    <tr>\n",
       "      <th>5</th>\n",
       "      <td>345</td>\n",
       "      <td>5</td>\n",
       "      <td>14</td>\n",
       "    </tr>\n",
       "    <tr>\n",
       "      <th>6</th>\n",
       "      <td>355</td>\n",
       "      <td>3</td>\n",
       "      <td>0</td>\n",
       "    </tr>\n",
       "    <tr>\n",
       "      <th>7</th>\n",
       "      <td>400</td>\n",
       "      <td>4</td>\n",
       "      <td>10</td>\n",
       "    </tr>\n",
       "  </tbody>\n",
       "</table>\n",
       "</div>"
      ],
      "text/plain": [
       "   alan  odasayisi  binayasi\n",
       "0   180          5        10\n",
       "1   225          4        18\n",
       "2   260          3         2\n",
       "3   320          6        10\n",
       "4   335          4         9\n",
       "5   345          5        14\n",
       "6   355          3         0\n",
       "7   400          4        10"
      ]
     },
     "execution_count": 3,
     "metadata": {},
     "output_type": "execute_result"
    }
   ],
   "source": [
    "df[['alan','odasayisi','binayasi']]"
   ]
  },
  {
   "cell_type": "code",
   "execution_count": null,
   "id": "f14dce4d",
   "metadata": {},
   "outputs": [
    {
     "name": "stderr",
     "output_type": "stream",
     "text": [
      "C:\\Users\\Ayşe Paycı\\AppData\\Roaming\\Python\\Python310\\site-packages\\sklearn\\utils\\validation.py:2739: UserWarning: X does not have valid feature names, but LinearRegression was fitted with feature names\n",
      "  warnings.warn(\n"
     ]
    },
    {
     "data": {
      "text/plain": [
       "array([530243.29284619])"
      ]
     },
     "execution_count": 4,
     "metadata": {},
     "output_type": "execute_result"
    }
   ],
   "source": [
    "#linear regression modeli tanımlıyoruz:\n",
    "reg=linear_model.LinearRegression()\n",
    "#modelimizi fit ediyoruz, yani modelimizi verilerimizle eğitiyoruz.\n",
    "#Alan, oda sayısı ve bina yaşı bağımsız değişkenlerimiz, fiyat ise bağımlı değişkenimiz.\n",
    "#Fiyat bağımlı değişkenimiz.\n",
    "reg.fit(df[['alan','odasayisi','binayasi']], df['fiyat'])\n",
    "\n",
    "#pretiction yapalım..\n",
    "#Örneğin 230 m2, 4 odalı ve 10 yaşındaki bir evin fiyatını tahmin edelim.\n",
    "#reg.predict() fonksiyonu ile tahmin yapıyoruz.\n",
    "#Burada [[230,4,10]] yeni verimizdir. Yani 230 m2, 4 odalı ve 10 yaşındaki bir evin fiyatını tahmin ediyoruz.\n",
    "reg.predict([[230,4,10]])"
   ]
  },
  {
   "cell_type": "code",
   "execution_count": null,
   "id": "1f2b9659",
   "metadata": {},
   "outputs": [
    {
     "name": "stderr",
     "output_type": "stream",
     "text": [
      "C:\\Users\\Ayşe Paycı\\AppData\\Roaming\\Python\\Python310\\site-packages\\sklearn\\utils\\validation.py:2739: UserWarning: X does not have valid feature names, but LinearRegression was fitted with feature names\n",
      "  warnings.warn(\n"
     ]
    },
    {
     "data": {
      "text/plain": [
       "array([586097.7833456])"
      ]
     },
     "execution_count": 5,
     "metadata": {},
     "output_type": "execute_result"
    }
   ],
   "source": [
    "reg.predict([[230,6,0]])"
   ]
  },
  {
   "cell_type": "code",
   "execution_count": null,
   "id": "266392ef",
   "metadata": {},
   "outputs": [
    {
     "data": {
      "text/plain": [
       "array([ 1018.99865454, 14893.82374984, -2606.68429997])"
      ]
     },
     "execution_count": 6,
     "metadata": {},
     "output_type": "execute_result"
    }
   ],
   "source": [
    "#reg.coef_ ile modelimizin katsayılarını alıyoruz.\n",
    "#Bu katsayılar, bağımsız değişkenlerin bağımlı değişken üzerindeki etkisini gösterir.\n",
    "#Örneğin, alanın katsayısı 1000 ise, alan her 1 m2 arttığında fiyatın 1000 TL artacağını gösterir.\n",
    "reg.coef_"
   ]
  },
  {
   "cell_type": "code",
   "execution_count": 7,
   "id": "3c06c19c",
   "metadata": {},
   "outputs": [
    {
     "data": {
      "text/plain": [
       "262365.1503032055"
      ]
     },
     "execution_count": 7,
     "metadata": {},
     "output_type": "execute_result"
    }
   ],
   "source": [
    "reg.intercept_\n",
    "#reg.intercept_ ile modelimizin kesişim noktasını alıyoruz.\n",
    "#Bu, bağımsız değişkenlerin tümü sıfır olduğunda bağımlı değişkenin değerini gösterir.\n",
    "#Örneğin, eğer alan, oda sayısı ve bina yaşı sıfır ise fiyatın ne olacağını gösterir."
   ]
  },
  {
   "cell_type": "code",
   "execution_count": 8,
   "id": "ae00d3f7",
   "metadata": {},
   "outputs": [
    {
     "data": {
      "text/plain": [
       "530243.2928461881"
      ]
     },
     "execution_count": 8,
     "metadata": {},
     "output_type": "execute_result"
    }
   ],
   "source": [
    "#Multiple Linear regression formülümüze dönersek hatırlayalım:\n",
    "#y=a+b1X1+b2X2+b3X3+... formülümüdü\n",
    "\n",
    "a=reg.intercept_\n",
    "b1=reg.coef_[0]\n",
    "b2=reg.coef_[1]\n",
    "b3=reg.coef_[2]\n",
    "#Örneğin, 230 m2, 4 odalı ve 10 yaşındaki bir evin fiyatını tahmin edelim.\n",
    "X1=230\n",
    "X2=4\n",
    "X3=10\n",
    "#Şimdi bu değerleri formülümüze yerleştirelim:\n",
    "y=a+b1*X1+b2*X2+b3*X3\n",
    "#Bu hesaplamayı yapalım:\n",
    "y"
   ]
  },
  {
   "cell_type": "markdown",
   "id": "2280a097",
   "metadata": {},
   "source": [
    "Jupyter Notebook Python Uyarı/Warning Mesajlarını Kapatmak için Kodunuzun en başına aşağıdaki iki satırı yazmalısınız:"
   ]
  },
  {
   "cell_type": "code",
   "execution_count": 9,
   "id": "319ccf4d",
   "metadata": {},
   "outputs": [],
   "source": [
    "import warnings\n",
    "warnings.filterwarnings('ignore')"
   ]
  }
 ],
 "metadata": {
  "kernelspec": {
   "display_name": "Python 3",
   "language": "python",
   "name": "python3"
  },
  "language_info": {
   "codemirror_mode": {
    "name": "ipython",
    "version": 3
   },
   "file_extension": ".py",
   "mimetype": "text/x-python",
   "name": "python",
   "nbconvert_exporter": "python",
   "pygments_lexer": "ipython3",
   "version": "3.10.0"
  }
 },
 "nbformat": 4,
 "nbformat_minor": 5
}
